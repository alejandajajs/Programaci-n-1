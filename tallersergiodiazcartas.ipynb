{
  "nbformat": 4,
  "nbformat_minor": 0,
  "metadata": {
    "colab": {
      "provenance": [],
      "authorship_tag": "ABX9TyMPnHRVDL+B7uLQM7kPiLwU",
      "include_colab_link": true
    },
    "kernelspec": {
      "name": "python3",
      "display_name": "Python 3"
    },
    "language_info": {
      "name": "python"
    }
  },
  "cells": [
    {
      "cell_type": "markdown",
      "metadata": {
        "id": "view-in-github",
        "colab_type": "text"
      },
      "source": [
        "<a href=\"https://colab.research.google.com/github/alejandajajs/Programaci-n-1/blob/main/tallersergiodiazcartas.ipynb\" target=\"_parent\"><img src=\"https://colab.research.google.com/assets/colab-badge.svg\" alt=\"Open In Colab\"/></a>"
      ]
    },
    {
      "cell_type": "code",
      "execution_count": null,
      "metadata": {
        "id": "le9CS2ify_zb"
      },
      "outputs": [],
      "source": [
        "import random\n",
        "class carta_trebol:\n",
        "    def __init__ (self,numero,palo):\n",
        "        self.numero = numero\n",
        "        self.palo = palo\n",
        "    def __str__(self):\n",
        "        return f\"carta {self.numero} del palo {self.palo}\"\n",
        "b = []\n",
        "for i in range (1,14):\n",
        "    t = carta_trebol(i,\"trebol\")\n",
        "    b.append(t)\n",
        "for t in b:\n",
        "    print(t)\n",
        "class carta_diamante:\n",
        "    def __init__ (self,numero,palo):\n",
        "        self.numero = numero\n",
        "        self.palo = palo\n",
        "    def __str__(self):\n",
        "        return f\"carta {self.numero} del palo {self.palo}\"\n",
        "b = []\n",
        "for i in range (1,14):\n",
        "    t = carta_diamante(i,\"diamante\")\n",
        "    b.append(t)\n",
        "for t in b:\n",
        "    print(t)\n",
        "class carta_pica:\n",
        "    def __init__ (self,numero,palo):\n",
        "        self.numero = numero\n",
        "        self.palo = palo\n",
        "    def __str__(self):\n",
        "        return f\"carta {self.numero} del palo {self.palo}\"\n",
        "b = []\n",
        "for i in range (1,14):\n",
        "    t = carta_pica(i,\"pica\")\n",
        "    b.append(t)\n",
        "for t in b:\n",
        "    print(t)\n",
        "class carta_corazon:\n",
        "    def __init__ (self,numero,palo):\n",
        "        self.numero = numero\n",
        "        self.palo = palo\n",
        "    def __str__(self):\n",
        "        return f\"carta {self.numero} del palo {self.palo}\"\n",
        "b = []\n",
        "for i in range (1,14):\n",
        "    t = carta_corazon(i,\"corazon\")\n",
        "    b.append(t)\n",
        "for t in b:\n",
        "    print(t)\n",
        "palos = ['corazones', 'diamantes', 'trÃ©boles', 'picas']\n",
        "valores = ['2', '3', '4', '5', '6', '7', '8', '9', '10', '11', '12', '13', '1']\n",
        "baraja = []\n",
        "for palo in palos:\n",
        "    for valor in valores:\n",
        "        baraja.append((valor, palo))\n",
        "\n",
        "random.shuffle(baraja)\n",
        "\n",
        "print(baraja)"
      ]
    }
  ]
}