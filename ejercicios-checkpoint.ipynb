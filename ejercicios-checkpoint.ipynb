{
 "cells": [
  {
   "cell_type": "code",
   "execution_count": 1,
   "id": "9a58d97e-4892-424b-929c-773794d6201c",
   "metadata": {},
   "outputs": [
    {
     "name": "stdin",
     "output_type": "stream",
     "text": [
      "Ingresa tu nombre:  3\n"
     ]
    },
    {
     "name": "stdout",
     "output_type": "stream",
     "text": [
      "Hola, 3. lean berserk, obra de arte"
     ]
    }
   ],
   "source": [
    "# Ejercicio 1: Saludo Personalizado\n",
    "nombre = input(\"Ingresa tu nombre: \")\n",
    "print(f\"Hola, {nombre}. interesante,no?")\n"
   ]
  },
  {
   "cell_type": "code",
   "execution_count": null,
   "id": "b5953eb4-c511-4996-abf8-10d11354624f",
   "metadata": {},
   "outputs": [],
   "source": [
    "# Ejercicio 2: Número Par o Impar\n",
    "numero = int(input(\"Ingresa un número: \"))\n",
    "if numero % 2 == 0:\n",
    "    print(f\"El número {numero} es par.\")\n",
    "else:\n",
    "    print(f\"El número {numero} es impar.\")\n"
   ]
  },
  {
   "cell_type": "code",
   "execution_count": null,
   "id": "1d15fe4b-b26f-410f-84e3-5769afc81718",
   "metadata": {},
   "outputs": [],
   "source": [
    "# Ejercicio 3: Contador de Vocales\n",
    "palabra = input(\"Ingresa una palabra: \")\n",
    "vocales = \"aeiouAEIOU\"\n",
    "contador_vocales = 0\n",
    "\n",
    "for letra in palabra:\n",
    "    if letra in vocales:\n",
    "        contador_vocales += 1\n",
    "\n",
    "print(f\"La palabra \\\"{palabra}\\\" tiene {contador_vocales} vocales.\")\n"
   ]
  },
  {
   "cell_type": "code",
   "execution_count": null,
   "id": "43fec7d3-34ee-4ef5-bb99-69be126198ce",
   "metadata": {},
   "outputs": [],
   "source": [
    "# Ejercicio 4: Adivina el Número\n",
    "import random\n",
    "\n",
    "numero_aleatorio = random.randint(1, 10)\n",
    "adivinanza = int(input(\"Adivina el número (entre 1 y 10): \"))\n",
    "\n",
    "while adivinanza != numero_aleatorio:\n",
    "    if adivinanza < numero_aleatorio:\n",
    "        print(\"El número es mayor.\")\n",
    "    else:\n",
    "        print(\"El número es menor.\")\n",
    "    adivinanza = int(input(\"Adivina el número: \"))\n",
    "\n",
    "print(\"¡Felicidades! Has adivinado el número.\")\n"
   ]
  },
  {
   "cell_type": "code",
   "execution_count": null,
   "id": "5a337cb9-7aa4-4f76-8fdb-577032396aa8",
   "metadata": {},
   "outputs": [],
   "source": [
    "# Ejercicio 5: Tabla de Multiplicar\n",
    "numero = int(input(\"Ingresa un número: \"))\n",
    "\n",
    "for i in range(1, 11):\n",
    "    print(f\"{numero} x {i} = {numero * i}\")\n",
    "\n"
   ]
  },
  {
   "cell_type": "code",
   "execution_count": null,
   "id": "7abdccc3-4280-4cbb-af08-e946812965da",
   "metadata": {},
   "outputs": [],
   "source": [
    "# Ejercicio 6: Pirámide de Asteriscos\n",
    "n = int(input(\"Ingresa el número de niveles para la pirámide: \"))\n",
    "\n",
    "for i in range(1, n + 1):\n",
    "    # Imprimir espacios\n",
    "    print(\" \" * (n - i) + \"*\" * (2 * i - 1))\n"
   ]
  }
 ],
 "metadata": {
  "kernelspec": {
   "display_name": "Python [conda env:base] *",
   "language": "python",
   "name": "conda-base-py"
  },
  "language_info": {
   "codemirror_mode": {
    "name": "ipython",
    "version": 3
   },
   "file_extension": ".py",
   "mimetype": "text/x-python",
   "name": "python",
   "nbconvert_exporter": "python",
   "pygments_lexer": "ipython3",
   "version": "3.12.7"
  }
 },
 "nbformat": 4,
 "nbformat_minor": 5
}
